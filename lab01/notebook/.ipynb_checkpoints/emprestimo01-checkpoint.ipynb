{
 "cells": [
  {
   "cell_type": "markdown",
   "metadata": {},
   "source": [
    "# Memória, Variáveis, Comunicação e Estado de um Programa\n",
    "\n",
    "Há várias possíveis estratégias para usar a memória de um computador para se realizar a comunicação entre partes dele -- por exemplo, entre duas funções -- e para se manter o **estado atual** de execução de um programa. Dentre elas, podemos destacar o uso de variáveis locais, globais e parâmetros entre funções.\n",
    "\n",
    "Vamos fazer aqui um exercício nesse contexto e você será conduzido a experimentar cada uma dessas estratégias, mesmo que em algumas ocasiões não seja a forma recomendada de se desenvolver um programa.\n",
    "\n",
    "\n",
    "# Exercício do Empréstimo\n",
    "\n",
    "Em um financiamento com juros compostos e número de parcelas fixas parte-se dos seguintes parâmetros:\n",
    "* `S` - valor da primeira parcela\n",
    "* `N` - número de parcelas\n",
    "* `J` - percentual de juros mensal\n",
    "\n",
    "A primeira parcela a ser paga do financiamento é sempre igual a `S`. A partir daí é feita uma atualização mensal da parcela, em que cada nova parcela é calculada a partir da parcela do mês anterior, conforme a fórmula:\n",
    "\n",
    "> Parcela<sub>mês</sub> = Parcela<sub>mês-1</sub> * (1 + `J` / 100)\n",
    "\n",
    "O financiamento encerra quando as `N` parcelas são pagas.\n",
    "\n",
    "Exemplo:\n",
    "* `S`: 200\n",
    "* `N`: 5\n",
    "* `J`: 1%\n",
    "\n",
    "Parcelas do financiamento:\n",
    "`200`; `202`; `204.02`; `206.06`; `208.12`"
   ]
  },
  {
   "cell_type": "markdown",
   "metadata": {},
   "source": [
    "## Exercício Parte 1 - Escrevendo um Programa\n",
    "\n",
    "Dado o problema descrito, escreva um programa que calcule as parcelas de um empréstimo para os seguintes valores:\n",
    "* `S`: 200\n",
    "* `N`: 5\n",
    "* `J`: 1%"
   ]
  },
  {
   "cell_type": "code",
   "execution_count": 1,
   "metadata": {},
   "outputs": [
    {
     "name": "stdout",
     "output_type": "stream",
     "text": [
      "Parcela 1: R$200.00.\n",
      "Parcela 2: R$202.00.\n",
      "Parcela 3: R$204.02.\n",
      "Parcela 4: R$206.06.\n",
      "Parcela 5: R$208.12.\n"
     ]
    }
   ],
   "source": [
    "#include <stdio.h>\n",
    "\n",
    "int main(){\n",
    "    int n;\n",
    "    float s, j, p;\n",
    "    s = 200.0;\n",
    "    n = 5;\n",
    "    j = 0.01;\n",
    "    p = s;\n",
    "    printf(\"Parcela 1: R$%.2f.\\n\", p);\n",
    "    for (int i = 2; i <= n; i++){\n",
    "        p = p *(1 + j);\n",
    "        printf(\"Parcela %d: R$%.2f.\\n\", i, p);\n",
    "    }\n",
    "    return 0;\n",
    "}"
   ]
  },
  {
   "cell_type": "markdown",
   "metadata": {},
   "source": [
    "## Exercício Parte 2 - Escrevendo um Módulo (Função)\n",
    "\n",
    "Reescreva o código acima de forma que seu programa faça uso de uma função `proximaParcela` que seja responsável pelo cálculo de uma única parcela X do empréstimo. Utilize as boas práticas de modularização que você aprendeu, evitando dependências do módulo com o programa principal. A função deve apenas calcular uma única parcela, portanto, ficará a cargo da função principal que chama `proximaParcela` realizar o restante do processo, para que sejam apresentadas todas as parcelas do financiamento."
   ]
  },
  {
   "cell_type": "code",
   "execution_count": 2,
   "metadata": {},
   "outputs": [
    {
     "name": "stdout",
     "output_type": "stream",
     "text": [
      "Parcela 1: R$200.00.\n",
      "Parcela 2: R$202.00.\n",
      "Parcela 3: R$204.02.\n",
      "Parcela 4: R$206.06.\n",
      "Parcela 5: R$208.12.\n"
     ]
    }
   ],
   "source": [
    "#include <stdio.h>\n",
    "\n",
    "float proximaParcela(float s, float j, int x){\n",
    "    float p;\n",
    "    if (x == 1){\n",
    "        p = s;\n",
    "    }\n",
    "    else{\n",
    "        p = proximaParcela(s, j, x - 1) * (1 + j);\n",
    "    }\n",
    "    return p;\n",
    "}\n",
    "\n",
    "int main(){\n",
    "    int n;\n",
    "    float s, j, p;\n",
    "    s = 200.0;\n",
    "    n = 5;\n",
    "    j = 0.01;\n",
    "    p = s;\n",
    "    for (int i = 1; i <= n; i++){\n",
    "        printf(\"Parcela %d: R$%.2f.\\n\", i, proximaParcela(p, j, i));\n",
    "    }\n",
    "    return 0;\n",
    "}"
   ]
  },
  {
   "cell_type": "markdown",
   "metadata": {},
   "source": [
    "## Exercício Parte 3 - Mantendo o Estado\n",
    "\n",
    "Modifique a função (módulo) `proximaParcela` acima de modo que ela tenha uma memória da situação em que estão as coisas, sem que o `main` precise ficar informando novamente coisas que já informou no início. Para isso serão permitidas as seguintes modificações:\n",
    "\n",
    "1. você pode desmembrar a função em mais de uma, por exemplo, uma você chama no começo do empréstimo e outra a cada parcela;\n",
    "\n",
    "2. você pode usar técnicas de uso de variáveis não recomendadas que geram dependência dos módulos com o programa principal.\n",
    "\n",
    "Você deve organizar o código de tal maneira que o `main` informe para as funções os dados do financiamento apenas uma única vez e depois possa solicitar o cálculo da parcela subsequente sem informar tudo novamente."
   ]
  },
  {
   "cell_type": "code",
   "execution_count": 3,
   "metadata": {},
   "outputs": [
    {
     "name": "stdout",
     "output_type": "stream",
     "text": [
      "Parcela 1: R$200.00.\n",
      "Parcela 2: R$202.00.\n",
      "Parcela 3: R$204.02.\n",
      "Parcela 4: R$206.06.\n",
      "Parcela 5: R$208.12.\n"
     ]
    }
   ],
   "source": [
    "#include <stdio.h>\n",
    "\n",
    "/* np é o número da parcela atual. */\n",
    "int n, np;\n",
    "float j, s, p;\n",
    "\n",
    "void proximaParcela(){\n",
    "    if (np < n){\n",
    "        p = p * (1 + j);\n",
    "        np++;\n",
    "    }\n",
    "    else{\n",
    "        p = 0;\n",
    "    }\n",
    "}\n",
    "\n",
    "int main(){\n",
    "    s = 200.0;\n",
    "    n = 5;\n",
    "    j = 0.01;\n",
    "    np = 1;\n",
    "    p = s;\n",
    "    while (p > 0){\n",
    "        printf(\"Parcela %d: R$%.2f.\\n\", np, p);\n",
    "        proximaParcela();\n",
    "    }\n",
    "    return 0;\n",
    "}"
   ]
  },
  {
   "cell_type": "markdown",
   "metadata": {},
   "source": [
    "## Exercício Parte 4 - Minimizando os Parâmetros\n",
    "\n",
    "Retomando a solução da `Parte 2`, em que a função `main` deve ter usado vários parâmetros para a comunicação com a função `proximaParcela`,  modifique a forma como você representa o empréstimo, de forma que a função `proximaParcela` receba sempre um único parâmetro capaz de representar o estado completo do empréstimo."
   ]
  },
  {
   "cell_type": "code",
   "execution_count": 2,
   "metadata": {},
   "outputs": [
    {
     "name": "stdout",
     "output_type": "stream",
     "text": [
      "Parcela 1: R$200.00.\n",
      "Parcela 2: R$202.00.\n",
      "Parcela 3: R$204.02.\n",
      "Parcela 4: R$206.06.\n",
      "Parcela 5: R$208.12.\n"
     ]
    }
   ],
   "source": [
    "#include <stdio.h>\n",
    "#include <stdlib.h>\n",
    "\n",
    "typedef struct Emprestimo{\n",
    "    int n, np; /* np é o número da parcela atual. */\n",
    "    float s, p, j;\n",
    "} Emprestimo;\n",
    "\n",
    "Emprestimo * inicializar_emprestimo(float s, int n, float j){\n",
    "    Emprestimo *emprestimo;\n",
    "    emprestimo = malloc(sizeof(Emprestimo));\n",
    "    emprestimo->n = n;\n",
    "    emprestimo->np = 1;\n",
    "    emprestimo->s = s;\n",
    "    emprestimo->p = s;\n",
    "    emprestimo->j = j;\n",
    "    return emprestimo;\n",
    "}\n",
    "\n",
    "void liberar_emprestimo(Emprestimo *emprestimo){\n",
    "    free(emprestimo);\n",
    "}\n",
    "\n",
    "float proximaParcela(Emprestimo *emprestimo){\n",
    "    float p;\n",
    "    p = emprestimo->p;\n",
    "    if (emprestimo->np < emprestimo->n){\n",
    "        emprestimo->p = emprestimo->p * (1 + emprestimo->j);\n",
    "        emprestimo->np++;\n",
    "    }\n",
    "    else{\n",
    "        emprestimo->p = 0;\n",
    "    }\n",
    "    return p;\n",
    "}\n",
    "\n",
    "int main(){\n",
    "    Emprestimo *emprestimo;\n",
    "    float p;\n",
    "    emprestimo = inicializar_emprestimo(200.0, 5, 0.01);\n",
    "    for (int np = 1;; np++){\n",
    "        p = proximaParcela(emprestimo);\n",
    "        if (p == 0){\n",
    "            break;\n",
    "        }\n",
    "        printf(\"Parcela %d: R$%.2f.\\n\", np, p);\n",
    "    }\n",
    "    liberar_emprestimo(emprestimo);\n",
    "    return 0;\n",
    "}"
   ]
  },
  {
   "cell_type": "markdown",
   "metadata": {},
   "source": [
    "## Exercício Parte 5 - Múltiplos Empréstimos\n",
    "\n",
    "Considere que há múltiplos empréstimos que podem ser controlados em paralelo. A sua função `main` deve ser capaz de apresentar no console as parcelas de mais de um empréstimo de modo paralelo, mantendo um controle para cada empréstimo separadamente. Você deve decidir qual das soluções tomará como ponto de partida, se deve modificar a função `main`, a função `proximaParcela` ou ambas para atender esse requisito da melhor forma possível.\n",
    "\n",
    "Adote uma solução compacta e generalizável, de tal modo que, cada novo empréstimo só exija a informação dos parâmetros de partida, sem expansão do código.\n",
    "\n",
    "Por exemplo, suponha os seguintes dois empréstimos em paralelo:\n",
    "\n",
    "### Empréstimo 1\n",
    "* `S`: 200\n",
    "* `N`: 5\n",
    "* `J`: 1%\n",
    "\n",
    "### Empréstimo 2\n",
    "* `S`: 500\n",
    "* `N`: 7\n",
    "* `J`: 2%\n",
    "\n",
    "A saída esperada é:\n",
    "~~~\n",
    "Emprestimo 1: parcela 1 eh 200.00\n",
    "Emprestimo 2: parcela 1 eh 500.00\n",
    "Emprestimo 1: parcela 2 eh 202.00\n",
    "Emprestimo 2: parcela 2 eh 510.00\n",
    "Emprestimo 1: parcela 3 eh 204.02\n",
    "Emprestimo 2: parcela 3 eh 520.20\n",
    "Emprestimo 1: parcela 4 eh 206.06\n",
    "Emprestimo 2: parcela 4 eh 530.60\n",
    "Emprestimo 1: parcela 5 eh 208.12\n",
    "Emprestimo 2: parcela 5 eh 541.22\n",
    "Emprestimo 2: parcela 6 eh 552.04\n",
    "Emprestimo 2: parcela 7 eh 563.08\n",
    "~~~\n",
    "\n",
    "O exemplo mostra dois empréstimos, mas a estrutura deve ser genérica o suficiente para controlar N empréstimos em paralelo."
   ]
  },
  {
   "cell_type": "code",
   "execution_count": 7,
   "metadata": {},
   "outputs": [
    {
     "name": "stdout",
     "output_type": "stream",
     "text": [
      "Empréstimo 1 | Parcela 1: R$200.00.\n",
      "Empréstimo 2 | Parcela 1: R$500.00.\n",
      "Empréstimo 1 | Parcela 2: R$202.00.\n",
      "Empréstimo 2 | Parcela 2: R$510.00.\n",
      "Empréstimo 1 | Parcela 3: R$204.02.\n",
      "Empréstimo 2 | Parcela 3: R$520.20.\n",
      "Empréstimo 1 | Parcela 4: R$206.06.\n",
      "Empréstimo 2 | Parcela 4: R$530.60.\n",
      "Empréstimo 1 | Parcela 5: R$208.12.\n",
      "Empréstimo 2 | Parcela 5: R$541.22.\n",
      "Empréstimo 2 | Parcela 6: R$552.04.\n",
      "Empréstimo 2 | Parcela 7: R$563.08.\n"
     ]
    }
   ],
   "source": [
    "#include <stdio.h>\n",
    "#include <stdlib.h>\n",
    "\n",
    "typedef struct Emprestimo{\n",
    "    int n, np; /* np é o número da parcela atual. */\n",
    "    float s, p, j;\n",
    "} Emprestimo;\n",
    "\n",
    "Emprestimo * inicializar_emprestimo(float s, int n, float j){\n",
    "    Emprestimo *emprestimo;\n",
    "    emprestimo = malloc(sizeof(Emprestimo));\n",
    "    emprestimo->n = n;\n",
    "    emprestimo->np = 1;\n",
    "    emprestimo->s = s;\n",
    "    emprestimo->p = s;\n",
    "    emprestimo->j = j;\n",
    "    return emprestimo;\n",
    "}\n",
    "\n",
    "void liberar_emprestimo(Emprestimo *emprestimo){\n",
    "    free(emprestimo);\n",
    "}\n",
    "\n",
    "float proximaParcela(Emprestimo *emprestimo){\n",
    "    float p;\n",
    "    p = emprestimo->p;\n",
    "    if (emprestimo->np < emprestimo->n){\n",
    "        emprestimo->p = emprestimo->p * (1 + emprestimo->j);\n",
    "        emprestimo->np++;\n",
    "    }\n",
    "    else{\n",
    "        emprestimo->p = 0;\n",
    "    }\n",
    "    return p;\n",
    "}\n",
    "\n",
    "int main(){\n",
    "    int fim, tamanho;\n",
    "    Emprestimo **emprestimos;\n",
    "    float p;\n",
    "    tamanho = 2;\n",
    "    emprestimos = malloc(tamanho * sizeof(Emprestimo *));\n",
    "    emprestimos[0] = inicializar_emprestimo(200.0, 5, 0.01);\n",
    "    emprestimos[1] = inicializar_emprestimo(500.0, 7, 0.02);\n",
    "    fim = 0;\n",
    "    for (int np = 1; !fim; np++){\n",
    "        fim = 1;\n",
    "        for (int i = 0; i < 2; i++){\n",
    "            p = proximaParcela(emprestimos[i]);\n",
    "            if (p > 0){\n",
    "                fim = 0;\n",
    "                printf(\"Empréstimo %d | Parcela %d: R$%.2f.\\n\", i + 1, np, p);\n",
    "            }\n",
    "        }\n",
    "    }\n",
    "    for (int i = 0; i < tamanho; i++){\n",
    "        liberar_emprestimo(emprestimos[i]);\n",
    "    }\n",
    "    free(emprestimos);\n",
    "    return 0;\n",
    "}"
   ]
  }
 ],
 "metadata": {
  "kernelspec": {
   "display_name": "C",
   "language": "c",
   "name": "c"
  },
  "language_info": {
   "file_extension": ".c",
   "mimetype": "text/plain",
   "name": "c"
  }
 },
 "nbformat": 4,
 "nbformat_minor": 4
}
