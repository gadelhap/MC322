{
 "cells": [
  {
   "cell_type": "markdown",
   "metadata": {},
   "source": [
    "# Laboratório em Estruturas de Programação Java\n",
    "\n",
    "O laboratório a seguir serve para praticar estruturas de programação Java sem compromisso com a orientação a objetos."
   ]
  },
  {
   "cell_type": "markdown",
   "metadata": {},
   "source": [
    "## Desafio 1 - Empréstimo\n",
    "\n",
    "Em um financiamento com juros compostos e número de parcelas fixas parte-se dos seguintes parâmetros:\n",
    "* `S` - valor da primeira parcela\n",
    "* `N` - número de parcelas\n",
    "* `J` - percentual de juros mensal\n",
    "\n",
    "A primeira parcela a ser paga do financiamento é sempre igual a `S`. A partir daí é feita uma atualização mensal da parcela, em que cada nova parcela é calculada a partir da parcela do mês anterior, conforme a fórmula:\n",
    "\n",
    "> Parcela<sub>mês</sub> = Parcela<sub>mês-1</sub> * (1 + `J` / 100)\n",
    "\n",
    "O financiamento encerra quando as `N` parcelas são pagas.\n",
    "\n",
    "Exemplo:\n",
    "* `S`: 200\n",
    "* `N`: 5\n",
    "* `J`: 1%\n",
    "\n",
    "Parcelas do financiamento:\n",
    "`200`; `202`; `204.02`; `206.06`; `208.12`"
   ]
  },
  {
   "cell_type": "markdown",
   "metadata": {},
   "source": [
    "### Desafio 1 / Parte 1 - Escrevendo o programa sem módulos\n",
    "\n",
    "Dado o problema descrito, escreva um programa que calcule as parcelas de um empréstimo para os seguintes valores:\n",
    "* S: 200\n",
    "* N: 5\n",
    "* J: 1%\n",
    "\n",
    "Nesta versão não use outro módulo além da função principal."
   ]
  },
  {
   "cell_type": "code",
   "execution_count": 10,
   "metadata": {},
   "outputs": [
    {
     "name": "stdout",
     "output_type": "stream",
     "text": [
      "Parcela 1: 200.00.\n",
      "Parcela 2: 202.00.\n",
      "Parcela 3: 204.02.\n",
      "Parcela 4: 206.06.\n",
      "Parcela 5: 208.12.\n"
     ]
    },
    {
     "data": {
      "text/plain": [
       "null"
      ]
     },
     "execution_count": 10,
     "metadata": {},
     "output_type": "execute_result"
    }
   ],
   "source": [
    "double p, j;\n",
    "int n;\n",
    "p = 200;\n",
    "n = 5;\n",
    "j = 0.01;\n",
    "for (int i = 1; i <= n; i++){\n",
    "    System.out.format(\"Parcela %d: %.2f.\\n\", i, p);\n",
    "    p = p * (1 + j);\n",
    "}"
   ]
  },
  {
   "cell_type": "markdown",
   "metadata": {},
   "source": [
    "### Desafio 1 / Parte 2 - Escrevendo módulos\n",
    "\n",
    "Reescreva o código acima de forma que seu programa faça uso de uma função que seja responsável pelo cálculo de uma parcela X do empréstimo. Podem ser usadas mais funções (métodos) conforme a necessidade."
   ]
  },
  {
   "cell_type": "code",
   "execution_count": 3,
   "metadata": {},
   "outputs": [
    {
     "data": {
      "text/plain": [
       "com.twosigma.beaker.javash.bkr4b3f8ea4.Parcela"
      ]
     },
     "execution_count": 3,
     "metadata": {},
     "output_type": "execute_result"
    }
   ],
   "source": [
    "import java.lang.Math;\n",
    "public class Parcela{\n",
    "    /**\n",
    "    * Retorna o valor da parcela número\n",
    "    * x de um emprestimo de parcela inicial\n",
    "    * s, taxa de juros j e n parcelas.\n",
    "    */\n",
    "    static double calcular_parcela(double s, double j, int n, int x){\n",
    "        double p;\n",
    "        if (x <= n && x > 0){\n",
    "            p = s * Math.pow(1 + j, x - 1);\n",
    "        }\n",
    "        else{\n",
    "            p = 0;\n",
    "        }\n",
    "        return p;\n",
    "    }\n",
    "}"
   ]
  },
  {
   "cell_type": "code",
   "execution_count": 4,
   "metadata": {},
   "outputs": [
    {
     "name": "stdout",
     "output_type": "stream",
     "text": [
      "Parcela 1: 200.00.\n",
      "Parcela 2: 202.00.\n",
      "Parcela 3: 204.02.\n",
      "Parcela 4: 206.06.\n",
      "Parcela 5: 208.12.\n"
     ]
    },
    {
     "data": {
      "text/plain": [
       "null"
      ]
     },
     "execution_count": 4,
     "metadata": {},
     "output_type": "execute_result"
    }
   ],
   "source": [
    "double s, p, j;\n",
    "int n;\n",
    "s = 200;\n",
    "p = s;\n",
    "n = 5;\n",
    "j = 0.01;\n",
    "for (int i = 1; i <= n; i++){\n",
    "    p = Parcela.calcular_parcela(s, j, n, i);\n",
    "    System.out.format(\"Parcela %d: %.2f.\\n\", i, p);\n",
    "}"
   ]
  },
  {
   "cell_type": "markdown",
   "metadata": {},
   "source": [
    "## Desafio 2\n",
    "\n",
    "Escreva um programa que sorteie um número inteiro entre `0` e `9999` o número deve ser mostrado, em seguida convertido para binário e a versão binária deve ser apresentada no console. A conversão decimal/binário deve ser computada por um programa feito por você."
   ]
  },
  {
   "cell_type": "code",
   "execution_count": 21,
   "metadata": {},
   "outputs": [
    {
     "data": {
      "text/plain": [
       "com.twosigma.beaker.javash.bkr211d6408.Binario"
      ]
     },
     "execution_count": 21,
     "metadata": {},
     "output_type": "execute_result"
    }
   ],
   "source": [
    "public class Binario{\n",
    "    /**\n",
    "    * Retorna a um dado numero decimal\n",
    "    * d como numero binario.\n",
    "    */\n",
    "    static long converter_dec_bin(int d){\n",
    "        long b;\n",
    "        b = 0;\n",
    "        for (long pos = 1; d != 0; pos *= 10){\n",
    "            b = b + pos * (d % 2);\n",
    "            d = d / 2;\n",
    "        }\n",
    "        return b;\n",
    "    }\n",
    "}"
   ]
  },
  {
   "cell_type": "code",
   "execution_count": 27,
   "metadata": {},
   "outputs": [
    {
     "name": "stdout",
     "output_type": "stream",
     "text": [
      "515\n",
      "1000000011\n"
     ]
    },
    {
     "data": {
      "text/plain": [
       "null"
      ]
     },
     "execution_count": 27,
     "metadata": {},
     "output_type": "execute_result"
    }
   ],
   "source": [
    "import java.util.Random;\n",
    "Random rand = new Random();\n",
    "int d;\n",
    "long b;\n",
    "d = rand.nextInt(10000);\n",
    "System.out.println(d);\n",
    "b = Binario.converter_dec_bin(d);\n",
    "System.out.println(b);"
   ]
  },
  {
   "cell_type": "markdown",
   "metadata": {},
   "source": [
    "## Desafio 3\n",
    "\n",
    "Uma molécula de DNA pode ser definida a partir de uma cadeia que representa a sequência de suas bases:\n",
    "A - Adenina\n",
    "C - Citisina\n",
    "G - Guanina\n",
    "T - Tinina\n",
    "\n",
    "Desse modo, uma string pode ser usada para representar um segmento do DNA da seguinte maneira: `ATTACGCGCAAAC`.\n",
    "\n",
    "Escreva uma função (método) que codifique a cadeia de RNA produzida a partir de uma cadeia de DNA. A função deve ser genérica o suficiente para ser aplicável a qualquer cadeia. A entrada é uma string (DNA) e o retorno é uma string (RNA).\n",
    "\n",
    "Escreva um programa que teste esta função com uma cadeia de DNA de sua escolha."
   ]
  },
  {
   "cell_type": "code",
   "execution_count": 11,
   "metadata": {},
   "outputs": [
    {
     "data": {
      "text/plain": [
       "com.twosigma.beaker.javash.bkraec24f16.DNA"
      ]
     },
     "execution_count": 11,
     "metadata": {},
     "output_type": "execute_result"
    }
   ],
   "source": [
    "public class DNA{\n",
    "    /**\n",
    "    * Retorna uma string representante de um\n",
    "    * segmento de RNA obtido apos a transcricao\n",
    "    * de um segmento de DNA representado por uma\n",
    "    * dada string dna.\n",
    "    */\n",
    "    static String transcrever(String dna){\n",
    "        String rna;\n",
    "        rna = \"\";\n",
    "        for (int i = 0; i < dna.length(); i++){\n",
    "            switch(dna.charAt(i)){\n",
    "                case 'A':\n",
    "                    rna += 'U';\n",
    "                    break;\n",
    "                case 'T':\n",
    "                    rna += 'A';\n",
    "                    break;\n",
    "                case 'C':\n",
    "                    rna += 'G';\n",
    "                    break;\n",
    "                case 'G':\n",
    "                    rna += 'C';\n",
    "                    break;\n",
    "            }\n",
    "        }\n",
    "        return rna;\n",
    "    }\n",
    "}"
   ]
  },
  {
   "cell_type": "code",
   "execution_count": 12,
   "metadata": {},
   "outputs": [
    {
     "name": "stdout",
     "output_type": "stream",
     "text": [
      "DNA: TATAATCGATGCACTGACGTAGTCAGCTTACGTAGCTCAGTCGATGACTGCACATGCAGTCTAGCTGACGATCGTAGATCGACTGTACGTCAGCATGCTA\n",
      "RNA: AUAUUAGCUACGUGACUGCAUCAGUCGAAUGCAUCGAGUCAGCUACUGACGUGUACGUCAGAUCGACUGCUAGCAUCUAGCUGACAUGCAGUCGUACGAU\n"
     ]
    },
    {
     "data": {
      "text/plain": [
       "null"
      ]
     },
     "execution_count": 12,
     "metadata": {},
     "output_type": "execute_result"
    }
   ],
   "source": [
    "String dna, rna;\n",
    "dna = \"TATAATCGATGCACTGACGTAGTCAGCTTACGTAGCTCAGTCGATGACTGCACATGCAGTCTAGCTGACGATCGTAGATCGACTGTACGTCAGCATGCTA\";\n",
    "rna = DNA.transcrever(dna);\n",
    "System.out.println(\"DNA: \" + dna);\n",
    "System.out.println(\"RNA: \" + rna);"
   ]
  },
  {
   "cell_type": "markdown",
   "metadata": {},
   "source": [
    "## Desafio 4\n",
    "\n",
    "Uma empresa precisa realizar uma estatística do salário de seus funcionários.\n",
    "\n",
    "Para fins de teste, os salários devem ser gerados aleatoriamente com valores variando entre R\\\\$ 2.500 e R\\\\$ 15.000.\n",
    "\n",
    "Escreva um programa que gere uma lista contendo os salários de 50 funcionários da empresa e mostre no console quantos funcionários ganham salário acima da média."
   ]
  },
  {
   "cell_type": "code",
   "execution_count": 37,
   "metadata": {},
   "outputs": [
    {
     "data": {
      "text/plain": [
       "com.twosigma.beaker.javash.bkr669d4e02.Estatistica"
      ]
     },
     "execution_count": 37,
     "metadata": {},
     "output_type": "execute_result"
    }
   ],
   "source": [
    "public class Estatistica{\n",
    "    /**\n",
    "    * Retorna o valor medio dos valores\n",
    "    * de uma dada lista de inteiros lista.\n",
    "    */\n",
    "    static double media(int[] lista){\n",
    "        double media;\n",
    "        media = 0;\n",
    "        for (int i = 0; i < lista.length; i++){\n",
    "            media += (double)lista[i] / lista.length;\n",
    "        }\n",
    "        return media;\n",
    "    }\n",
    "    /**\n",
    "    * Retorna a quantidade de valores de uma\n",
    "    * dada lista de inteiros lista acima do\n",
    "    * valor medio dessa lista.\n",
    "    */\n",
    "    static int acima_media(int[] lista){\n",
    "        int q;\n",
    "        double media;\n",
    "        q = 0;\n",
    "        media = media(lista);\n",
    "        for (int i = 0; i < lista.length; i++){\n",
    "            if (lista[i] > media){\n",
    "                q++;\n",
    "            }\n",
    "        }\n",
    "        return q;\n",
    "    }\n",
    "}"
   ]
  },
  {
   "cell_type": "code",
   "execution_count": 39,
   "metadata": {},
   "outputs": [
    {
     "name": "stdout",
     "output_type": "stream",
     "text": [
      "Quant. acima da média: 25\n"
     ]
    },
    {
     "data": {
      "text/plain": [
       "null"
      ]
     },
     "execution_count": 39,
     "metadata": {},
     "output_type": "execute_result"
    }
   ],
   "source": [
    "import java.util.Random;\n",
    "Random rand = new Random();\n",
    "int[] salarios;\n",
    "salarios = new int[50];\n",
    "for (int i = 0; i < 50; i++){\n",
    "    salarios[i] = rand.nextInt(12500) + 2500;\n",
    "}\n",
    "System.out.println(\"Quant. acima da média: \" + Estatistica.acima_media(salarios));"
   ]
  }
 ],
 "metadata": {
  "kernelspec": {
   "display_name": "Java",
   "language": "java",
   "name": "java"
  },
  "language_info": {
   "codemirror_mode": "text/x-java",
   "file_extension": ".java",
   "mimetype": "",
   "name": "Java",
   "nbconverter_exporter": "",
   "version": "1.8.0_121"
  }
 },
 "nbformat": 4,
 "nbformat_minor": 4
}
